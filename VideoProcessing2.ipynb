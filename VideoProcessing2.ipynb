{
 "cells": [
  {
   "cell_type": "code",
   "execution_count": 113,
   "id": "3e9b7efe-68b2-4f65-a582-5cbff9d0cf46",
   "metadata": {
    "tags": []
   },
   "outputs": [],
   "source": [
    "import cv2\n",
    "import numpy as np\n",
    "import os\n",
    "from PIL import Image"
   ]
  },
  {
   "cell_type": "code",
   "execution_count": 115,
   "id": "6b4ec12e-423a-4e5e-a21e-36280c9cd548",
   "metadata": {},
   "outputs": [],
   "source": [
    "video = cv2.VideoCapture('IMG_9871.mov')"
   ]
  },
  {
   "cell_type": "code",
   "execution_count": 117,
   "id": "cc84231e-52a5-41d1-9aea-dd67ac27efab",
   "metadata": {},
   "outputs": [],
   "source": [
    "frame_count = 0\n",
    "\n",
    "output_dir = '20240509 RRe 1'\n",
    "os.makedirs(output_dir, exist_ok=True)\n",
    "\n",
    "while (video.isOpened()):\n",
    "    ret, frame = video.read()\n",
    "        \n",
    "    if ret:\n",
    "\n",
    "        cv2.imwrite(os.path.join(output_dir, f'frame{frame_count}.jpg'), frame)\n",
    "        \n",
    "        frame_count += 1\n",
    "    else:\n",
    "        break"
   ]
  },
  {
   "cell_type": "code",
   "execution_count": 118,
   "id": "51d6c804-bb0c-40a0-86b7-a8b7111ba04d",
   "metadata": {},
   "outputs": [],
   "source": [
    "import sys, os\n",
    "input_directory = sys.path.insert(1, 'Research/OECT/20240509 RRe 1')"
   ]
  },
  {
   "cell_type": "code",
   "execution_count": 119,
   "id": "ac2a81d5-8105-407c-b3c5-2a7de2649e13",
   "metadata": {},
   "outputs": [
    {
     "name": "stdout",
     "output_type": "stream",
     "text": [
      "Coversion complete\n"
     ]
    }
   ],
   "source": [
    "input_dir = '20240509 RRe 1'\n",
    "output_dir = '20240509 RRe 1 Black and White'\n",
    "\n",
    "if not os.path.exists(output_dir):\n",
    "    os.makedirs(output_dir)\n",
    "    \n",
    "for filename in os.listdir(input_dir):\n",
    "    if filename.endswith('.jpg'):\n",
    "        frame_path = os.path.join(input_dir, filename)\n",
    "        \n",
    "        frame = cv2.imread(frame_path)\n",
    "        cropped_frame = frame[100:170, 70:490]\n",
    "        \n",
    "        hsv = cv2.cvtColor(cropped_frame, cv2.COLOR_BGR2HSV)\n",
    "        \n",
    "        lower = np.array([29, 86, 6])\n",
    "        upper = np.array([64, 225, 225])\n",
    "        \n",
    "        mask = cv2.inRange(hsv, lower, upper)\n",
    "        mask = cv2.bitwise_not(mask)\n",
    "        grayscale_frame = cv2.cvtColor(cropped_frame, cv2.COLOR_BGR2GRAY)\n",
    "        \n",
    "        result = cv2.bitwise_and(grayscale_frame, grayscale_frame, mask=mask)\n",
    "\n",
    "        output_path = os.path.join(output_dir, filename)\n",
    "        cv2.imwrite(output_path, mask)\n",
    "print('Coversion complete')"
   ]
  },
  {
   "cell_type": "code",
   "execution_count": null,
   "id": "f4d6449b-62c7-4d61-9916-1001d5b93f10",
   "metadata": {},
   "outputs": [],
   "source": []
  }
 ],
 "metadata": {
  "kernelspec": {
   "display_name": "Python 3 (ipykernel)",
   "language": "python",
   "name": "python3"
  },
  "language_info": {
   "codemirror_mode": {
    "name": "ipython",
    "version": 3
   },
   "file_extension": ".py",
   "mimetype": "text/x-python",
   "name": "python",
   "nbconvert_exporter": "python",
   "pygments_lexer": "ipython3",
   "version": "3.11.7"
  }
 },
 "nbformat": 4,
 "nbformat_minor": 5
}
